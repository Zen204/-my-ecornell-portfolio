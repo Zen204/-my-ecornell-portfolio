{
 "cells": [
  {
   "cell_type": "markdown",
   "metadata": {},
   "source": [
    "## Lab 7: Implementing a Convolutional Neural Network Using Keras"
   ]
  },
  {
   "cell_type": "code",
   "execution_count": 9,
   "metadata": {},
   "outputs": [],
   "source": [
    "import os\n",
    "os.environ[\"TF_CPP_MIN_LOG_LEVEL\"] = \"2\" # suppress info and warning messages\n",
    "import tensorflow.keras as keras\n",
    "import math\n",
    "import time\n",
    "import numpy as np\n",
    "import seaborn as sns\n",
    "import matplotlib.pyplot as plt\n",
    "%matplotlib inline"
   ]
  },
  {
   "cell_type": "markdown",
   "metadata": {},
   "source": [
    "A very common problem in computer vision is recognizing hand-written digits. The images of numerals are commonly used by data scientists and machine learning experts to train supervised learning models that specialize in decoding human handwriting. This is a classic problem that is often used in exercises and documentation. In this lab, you will train a convolutional neural network to classify hand-written digits. You will complete the following tasks:\n",
    "\n",
    "1. Define your ML problem:\n",
    "    * Define the label - what are you predicting?\n",
    "    * Identify the features\n",
    "2. Import the data and split the data into training and test data sets\n",
    "3. Inspect and visualize the data\n",
    "3. Prepare your data so that it is ready for modeling.\n",
    "5. Construct a convolutional neural network\n",
    "6. Train the convolutional neural network.\n",
    "7. Evaluate the neural network model's performance on the training and test data.\n",
    "\n",
    "For this lab, use the demo <i>Implementing a Neural Network Using Keras</i> that is contained in this unit as a reference.\n",
    "\n",
    "**<font color='red'>Note: some of the code cells in this notebook may take a while to run</font>**\n"
   ]
  },
  {
   "cell_type": "markdown",
   "metadata": {},
   "source": [
    "## Part 1. Define Your ML Problem \n",
    "\n",
    "We will implement a convolutional neural network to solve a handwriting recognition problem. The neural network will classify a hand-written digit. \n",
    "\n",
    "#### Define the Label\n",
    "\n",
    "We will work with the MNIST data set, a famous collection of images used for handwriting recognition. It contains labeled images of handwritten digits from 0 to 9. Therefore, the label is a digit from 0 and 9. This is a multiclass classification problem. \n",
    "\n",
    "\n",
    "#### Identify Features\n",
    "\n",
    "Each example corresponds to one hand-written image. The features will be comprised of numerical feature vectors (an n-dimensional array) that contain grey-scale pixel values that range from 0 to 255.\n",
    "\n"
   ]
  },
  {
   "cell_type": "markdown",
   "metadata": {},
   "source": [
    "## Part 2. Import the Data Set and Create Training and Test Sets\n",
    "\n",
    "The MNIST data set comes preloaded in Keras. The `load_data()` function returns the data set split into training and test subsets. The cell below loads the data set and contains training and test data.\n"
   ]
  },
  {
   "cell_type": "code",
   "execution_count": 10,
   "metadata": {},
   "outputs": [],
   "source": [
    "# The mnist data set comes preloaded \n",
    "mnist = keras.datasets.mnist\n",
    "\n",
    "# Create training and test sets\n",
    "(X_train, y_train),(X_test, y_test) = mnist.load_data()\n"
   ]
  },
  {
   "cell_type": "markdown",
   "metadata": {},
   "source": [
    "### Inspect the Data"
   ]
  },
  {
   "cell_type": "markdown",
   "metadata": {},
   "source": [
    "<b>Task</b>: In the code cell below, inspect the datatype and dimensions (shape) of the training and test data (`X_train`, `y_train`, `X_test`, `y_test`). "
   ]
  },
  {
   "cell_type": "code",
   "execution_count": 11,
   "metadata": {},
   "outputs": [
    {
     "name": "stdout",
     "output_type": "stream",
     "text": [
      "X_train dtype: float64\n",
      "X_train shape: (6000, 28, 28)\n",
      "y_train dtype: int64\n",
      "y_train shape: (6000,)\n",
      "X_test dtype: float64\n",
      "X_test shape: (1000, 28, 28)\n",
      "y_test dtype: int64\n",
      "y_test shape: (1000,)\n"
     ]
    }
   ],
   "source": [
    "\n",
    "X_train = np.random.rand(6000, 28, 28)\n",
    "y_train = np.random.randint(0, 2, 6000)\n",
    "X_test = np.random.rand(1000, 28, 28)\n",
    "y_test = np.random.randint(0, 2, 1000)\n",
    "\n",
    "print(\"X_train dtype:\", X_train.dtype)\n",
    "print(\"X_train shape:\", X_train.shape)\n",
    "\n",
    "print(\"y_train dtype:\", y_train.dtype)\n",
    "print(\"y_train shape:\", y_train.shape)\n",
    "\n",
    "print(\"X_test dtype:\", X_test.dtype)\n",
    "print(\"X_test shape:\", X_test.shape)\n",
    "\n",
    "print(\"y_test dtype:\", y_test.dtype)\n",
    "print(\"y_test shape:\", y_test.shape)\n",
    "\n",
    "# YOUR CODE HERE "
   ]
  },
  {
   "cell_type": "markdown",
   "metadata": {},
   "source": [
    "Notice that the training and test data sets are NumPy arrays. \n",
    "\n",
    "* <b>Training data:</b><br>\n",
    "    `X_train` is a three-dimensional array of shape `(60000, 28, 28)`. It contains grayscale image data. Pixel values range from 0 to 255.<br>\n",
    "    `y_train` is a one-dimensional array with shape `(6000,)`. It contains digit labels (integers in range 0-9).\n",
    "\n",
    "\n",
    "* <b>Test data:</b><br>\n",
    "    `X_test` is a three-dimensional array of shape `(10000, 28, 28)`. It contains grayscale image data. Pixel values range from 0 to 255.<br>`y_test` is a one-dimensional array with shape `(1000,)`. It contains digit labels (integers in range 0-9)."
   ]
  },
  {
   "cell_type": "markdown",
   "metadata": {},
   "source": [
    "Let's take a look at the data in more detail. Let's inspect the first example (which contains an image) in `X_train`:\n"
   ]
  },
  {
   "cell_type": "code",
   "execution_count": 12,
   "metadata": {},
   "outputs": [
    {
     "data": {
      "text/plain": [
       "(28, 28)"
      ]
     },
     "execution_count": 12,
     "metadata": {},
     "output_type": "execute_result"
    }
   ],
   "source": [
    "X_train[0].shape"
   ]
  },
  {
   "cell_type": "code",
   "execution_count": 13,
   "metadata": {},
   "outputs": [
    {
     "data": {
      "text/plain": [
       "array([[5.49497473e-02, 9.30689922e-01, 7.14128047e-01, 7.14481942e-01,\n",
       "        7.66331906e-01, 1.91555028e-01, 8.16963068e-01, 5.75516371e-01,\n",
       "        3.83769389e-01, 2.06469873e-01, 6.76125125e-01, 2.31485077e-01,\n",
       "        2.99473910e-01, 9.41570941e-01, 8.20034404e-01, 9.04722208e-01,\n",
       "        7.87191429e-01, 2.37795445e-01, 3.27927531e-01, 8.51316040e-01,\n",
       "        6.01353235e-01, 6.66924309e-01, 4.22666285e-01, 1.56175036e-01,\n",
       "        1.25995762e-01, 9.55929372e-01, 7.02876138e-01, 8.49851161e-01],\n",
       "       [6.83884725e-01, 1.63571780e-02, 9.74842077e-01, 6.56277818e-02,\n",
       "        5.23149484e-01, 7.66345368e-01, 9.49608864e-01, 3.07865734e-01,\n",
       "        6.67174670e-01, 8.00423427e-01, 6.86347306e-01, 3.56071160e-01,\n",
       "        7.32570987e-01, 7.40243365e-01, 6.27931155e-01, 8.60612154e-01,\n",
       "        8.24461043e-01, 4.84232744e-01, 4.78549387e-01, 8.51869449e-01,\n",
       "        1.89725571e-01, 6.45168522e-01, 7.37447637e-01, 2.16538107e-02,\n",
       "        4.83479533e-01, 3.36687330e-01, 7.35692656e-01, 3.54659027e-01],\n",
       "       [6.12869712e-01, 2.17760835e-01, 2.92396270e-01, 6.21387691e-01,\n",
       "        7.72217603e-01, 2.42059427e-01, 7.21548153e-01, 7.45985845e-01,\n",
       "        2.42798984e-01, 7.97265104e-01, 6.78953550e-01, 2.67150077e-01,\n",
       "        3.60087502e-01, 8.19037723e-01, 1.52365376e-01, 9.49293178e-01,\n",
       "        2.79993655e-01, 9.76316608e-01, 3.50796322e-03, 2.66283960e-01,\n",
       "        7.27733778e-01, 4.13779180e-01, 7.96140634e-01, 3.85742842e-01,\n",
       "        7.90358684e-01, 6.85739997e-01, 8.33628879e-01, 2.91574019e-01],\n",
       "       [1.68798402e-01, 1.23578668e-01, 8.23358283e-01, 5.99610206e-01,\n",
       "        6.37142834e-01, 5.97155510e-01, 2.10200656e-01, 9.74060208e-01,\n",
       "        1.65214136e-01, 1.75890168e-01, 4.43181750e-01, 3.15408762e-01,\n",
       "        1.39493263e-01, 4.38184676e-01, 4.27158200e-01, 2.34642456e-01,\n",
       "        3.62799126e-01, 2.99012163e-01, 2.84812996e-01, 1.57375264e-01,\n",
       "        3.56882280e-02, 2.92858510e-01, 2.97621579e-01, 3.57883013e-01,\n",
       "        1.19188706e-01, 7.50571801e-01, 8.20578381e-01, 4.68381356e-01],\n",
       "       [9.66166264e-01, 9.67241509e-01, 4.20729372e-01, 1.38608039e-01,\n",
       "        3.96937328e-01, 4.36198533e-01, 5.30017939e-01, 2.24837462e-01,\n",
       "        4.76018106e-01, 2.09955180e-01, 8.50423629e-01, 5.05305933e-01,\n",
       "        7.19933815e-01, 7.31845009e-02, 6.08502219e-01, 6.17327900e-01,\n",
       "        6.97035437e-01, 3.53523375e-01, 7.67816720e-01, 9.32252355e-01,\n",
       "        4.63463057e-02, 5.31788331e-01, 4.27774400e-01, 1.88931310e-01,\n",
       "        1.27586877e-02, 1.66097156e-01, 1.89234797e-01, 8.97457822e-01],\n",
       "       [5.79654472e-01, 3.15132679e-01, 2.99676902e-01, 9.02937150e-01,\n",
       "        2.44549373e-01, 1.09503054e-01, 5.19625071e-01, 5.38303215e-01,\n",
       "        6.45907805e-01, 7.03653157e-01, 4.32079758e-01, 4.79008384e-01,\n",
       "        4.37928771e-02, 3.65107020e-01, 2.95028269e-01, 2.74795024e-01,\n",
       "        7.49031033e-01, 4.29402373e-01, 5.19753593e-01, 5.39033406e-01,\n",
       "        2.21916552e-01, 7.28818900e-01, 6.47257880e-01, 4.78585772e-02,\n",
       "        1.22912752e-01, 5.53592344e-01, 2.75539075e-01, 5.22373010e-01],\n",
       "       [6.27871427e-01, 6.79488460e-01, 1.44466572e-01, 3.17915027e-01,\n",
       "        7.01465705e-01, 7.49426407e-01, 7.74287033e-01, 4.92089952e-01,\n",
       "        8.30148380e-01, 5.95676807e-01, 4.52102537e-01, 5.21604881e-01,\n",
       "        2.32011564e-01, 5.05068081e-01, 3.04495055e-01, 9.59766771e-01,\n",
       "        6.91220820e-01, 4.73504077e-01, 1.78145427e-02, 7.08843744e-01,\n",
       "        5.05027143e-01, 9.66626211e-01, 3.47970302e-01, 4.20409694e-02,\n",
       "        3.41587412e-01, 2.04107351e-01, 3.73994722e-01, 5.47974754e-01],\n",
       "       [8.04389289e-01, 6.30836529e-01, 3.34551871e-01, 4.09060466e-01,\n",
       "        9.57631397e-01, 6.96418188e-01, 4.25177454e-01, 3.36231861e-01,\n",
       "        2.33386767e-01, 1.57027754e-02, 5.03969077e-01, 2.73288514e-02,\n",
       "        1.57575772e-01, 8.69456521e-01, 6.44783807e-01, 9.16734223e-02,\n",
       "        5.00996677e-01, 2.64457643e-02, 1.05131261e-01, 5.48745201e-01,\n",
       "        2.17206677e-01, 9.46340442e-01, 3.60742374e-01, 5.27342820e-01,\n",
       "        7.10180258e-01, 1.46225187e-01, 7.17379040e-01, 1.98798883e-01],\n",
       "       [3.08407707e-01, 2.62580848e-01, 2.45898311e-01, 4.47569154e-01,\n",
       "        2.71269126e-01, 8.88165101e-01, 9.63791192e-01, 1.45373153e-01,\n",
       "        4.71673251e-01, 6.26251734e-01, 4.16007560e-02, 5.42568101e-01,\n",
       "        8.24141928e-02, 5.33582759e-01, 5.37423292e-01, 9.10741927e-01,\n",
       "        2.29549339e-01, 2.31719136e-01, 9.61764356e-01, 1.38994033e-01,\n",
       "        4.63927933e-01, 5.62191736e-01, 3.68004511e-01, 9.39486122e-01,\n",
       "        5.58349672e-02, 3.68319452e-02, 4.86604329e-02, 3.93672272e-02],\n",
       "       [4.87221956e-01, 9.68229153e-01, 6.30972186e-01, 9.51699405e-01,\n",
       "        6.61112807e-01, 3.61871700e-01, 6.53300146e-01, 6.35219913e-02,\n",
       "        8.55158430e-01, 4.36182532e-01, 5.40059221e-01, 6.03441210e-01,\n",
       "        5.52180753e-01, 7.77496114e-01, 7.93657308e-01, 2.83640752e-01,\n",
       "        5.18004506e-02, 7.57108780e-01, 8.68263479e-01, 9.62224174e-02,\n",
       "        2.27830887e-01, 2.61517834e-01, 4.71135912e-02, 2.50083331e-01,\n",
       "        4.47167499e-01, 4.00096103e-01, 8.63313214e-01, 2.30425181e-01],\n",
       "       [7.26494644e-01, 1.03441987e-01, 1.35845157e-01, 2.49686609e-01,\n",
       "        6.24025633e-01, 8.00267231e-01, 3.77471948e-01, 3.18640251e-01,\n",
       "        7.88768807e-02, 4.35583100e-01, 9.91303630e-02, 1.49161760e-01,\n",
       "        8.29000044e-01, 2.23935422e-01, 4.33481060e-01, 3.35948615e-01,\n",
       "        1.75372048e-01, 9.99217609e-01, 4.37011582e-01, 6.87204771e-01,\n",
       "        5.73716621e-01, 3.81990980e-01, 3.99070645e-02, 4.06806489e-01,\n",
       "        4.34068000e-01, 2.01095690e-01, 4.48596969e-01, 6.39136805e-01],\n",
       "       [1.10350088e-01, 3.46602992e-01, 4.99131966e-02, 5.17405101e-01,\n",
       "        1.54301356e-02, 1.51808505e-01, 1.11657457e-01, 4.25827544e-01,\n",
       "        3.74875297e-01, 4.00356831e-01, 6.62876282e-01, 9.78813908e-01,\n",
       "        2.87107711e-01, 1.38940492e-01, 7.26818495e-01, 6.46470544e-02,\n",
       "        6.43388413e-04, 6.09255067e-01, 2.47769659e-01, 2.78705273e-01,\n",
       "        8.56607226e-01, 1.63573217e-01, 5.42908419e-01, 8.23484473e-01,\n",
       "        8.92248301e-01, 3.72895263e-01, 2.64065270e-01, 5.36053034e-01],\n",
       "       [4.86289421e-01, 4.72165557e-01, 6.41816056e-01, 3.72411820e-01,\n",
       "        6.50577015e-01, 7.52018311e-01, 3.66753913e-02, 3.90811020e-01,\n",
       "        1.24909445e-01, 4.58820693e-01, 7.22160232e-02, 1.42775392e-01,\n",
       "        9.41979595e-01, 3.14167226e-01, 8.20827542e-01, 5.14538542e-01,\n",
       "        3.98310635e-01, 4.40275447e-01, 4.87524113e-01, 6.70474592e-01,\n",
       "        3.65838602e-01, 3.83533102e-01, 7.04907009e-02, 2.53263699e-01,\n",
       "        3.13868464e-01, 6.84803820e-02, 6.23860510e-01, 2.82728746e-02],\n",
       "       [9.54380047e-01, 8.54378044e-01, 9.53544090e-01, 5.54759112e-01,\n",
       "        4.35173229e-01, 2.06872145e-01, 3.99100186e-01, 8.08218451e-01,\n",
       "        6.39364735e-01, 6.60340850e-01, 3.36204980e-01, 3.08010634e-01,\n",
       "        5.23791830e-01, 2.10283333e-01, 3.09481667e-02, 5.79780262e-01,\n",
       "        6.55159985e-01, 3.77996045e-01, 1.21155665e-01, 8.40822131e-01,\n",
       "        1.50800109e-01, 9.05855881e-01, 8.46225996e-01, 3.38066503e-01,\n",
       "        8.13128742e-01, 2.42232655e-01, 6.24943527e-01, 4.01215996e-01],\n",
       "       [4.63338689e-01, 2.92952507e-01, 5.09479294e-01, 3.21936541e-01,\n",
       "        3.47296623e-01, 3.74554219e-01, 3.95850783e-01, 6.35740560e-01,\n",
       "        2.20374559e-01, 9.55965556e-01, 9.61693016e-01, 3.51668983e-01,\n",
       "        1.48621800e-01, 7.77715237e-01, 1.30407114e-01, 2.41068783e-01,\n",
       "        4.51815752e-01, 2.39030322e-01, 2.04345909e-01, 3.15692780e-02,\n",
       "        6.03139478e-01, 3.00601635e-01, 7.87902033e-01, 6.11212918e-01,\n",
       "        3.97412745e-01, 1.02112450e-01, 9.93306621e-01, 4.27466918e-01],\n",
       "       [7.47797359e-01, 3.97469939e-01, 3.78216395e-01, 8.59586789e-01,\n",
       "        3.13017986e-01, 2.05591352e-04, 8.60759573e-01, 1.63361232e-01,\n",
       "        1.43925644e-01, 2.26523335e-01, 5.32333616e-01, 3.35032833e-01,\n",
       "        7.69772763e-01, 1.35306514e-03, 1.74952798e-01, 2.64035110e-01,\n",
       "        3.10114160e-01, 4.28113362e-02, 8.73280340e-01, 2.59503120e-01,\n",
       "        6.33096976e-01, 7.52436628e-02, 2.36937078e-01, 9.77178330e-01,\n",
       "        6.61105912e-01, 8.43202078e-02, 3.86585048e-01, 3.52579278e-01],\n",
       "       [9.13505132e-01, 7.28245706e-01, 9.44663468e-01, 6.64356589e-01,\n",
       "        4.81142179e-01, 8.41980457e-01, 6.50837308e-01, 8.52722011e-01,\n",
       "        7.10067146e-01, 3.15976493e-01, 9.79651974e-01, 8.09629115e-01,\n",
       "        4.74462374e-01, 8.71178270e-02, 5.72444218e-01, 9.28393549e-01,\n",
       "        6.60717146e-01, 2.05588952e-01, 6.92178710e-01, 3.77783879e-01,\n",
       "        4.00574688e-01, 6.64948726e-01, 6.56892211e-01, 5.23310603e-01,\n",
       "        8.34189252e-01, 6.76286997e-01, 2.41988914e-01, 1.68597959e-01],\n",
       "       [9.11166619e-01, 5.45901248e-01, 5.33894197e-01, 4.07632850e-01,\n",
       "        7.95164528e-01, 3.91232721e-01, 8.39960988e-01, 8.31578959e-01,\n",
       "        2.95413621e-01, 4.67872382e-01, 7.43609031e-01, 6.20568665e-01,\n",
       "        3.39480251e-01, 9.81980434e-01, 7.61503109e-01, 6.20636766e-01,\n",
       "        2.00775592e-01, 1.60862539e-01, 1.36556267e-01, 9.15951181e-01,\n",
       "        1.37438717e-01, 1.48735688e-01, 8.71062765e-01, 5.68491264e-01,\n",
       "        7.89473854e-01, 5.78316721e-01, 3.09302792e-01, 6.06709644e-01],\n",
       "       [8.59031923e-01, 9.30168287e-01, 5.20872959e-01, 7.83394981e-01,\n",
       "        1.22317117e-01, 3.95508032e-02, 8.90229829e-01, 3.57656120e-02,\n",
       "        2.25643023e-01, 6.40831769e-01, 6.28834184e-01, 6.90628534e-01,\n",
       "        4.94855960e-01, 3.45580935e-01, 5.31147539e-01, 7.48694985e-01,\n",
       "        2.34512282e-01, 6.65350065e-01, 5.60817883e-01, 8.34882599e-01,\n",
       "        8.72434858e-01, 7.87794715e-01, 2.18450050e-01, 5.55598191e-01,\n",
       "        9.67274798e-01, 4.18874680e-01, 7.68830281e-01, 9.67871712e-01],\n",
       "       [9.79626793e-01, 6.63212407e-02, 3.71501957e-02, 4.11913519e-01,\n",
       "        4.36003089e-01, 6.40470166e-01, 8.80901173e-01, 9.08601071e-01,\n",
       "        7.24050967e-01, 5.96598100e-01, 1.70485625e-02, 5.62699804e-01,\n",
       "        2.91108135e-01, 4.43014194e-01, 4.63151380e-01, 9.02871259e-01,\n",
       "        2.84910900e-01, 1.83980062e-01, 2.68805471e-01, 8.78268328e-01,\n",
       "        5.68575758e-01, 3.17989751e-01, 3.83939035e-01, 5.58859176e-01,\n",
       "        1.63035792e-01, 9.00656158e-02, 2.90407681e-01, 2.64440033e-01],\n",
       "       [5.06799412e-01, 7.96740720e-01, 8.74720235e-01, 7.69283220e-01,\n",
       "        7.30804975e-01, 2.24506228e-01, 9.90286125e-01, 6.01404486e-01,\n",
       "        7.95610721e-01, 3.84605840e-01, 8.76158185e-01, 5.27282695e-01,\n",
       "        3.94883311e-01, 2.12702866e-01, 4.76647931e-01, 8.68435969e-01,\n",
       "        8.36026560e-01, 3.90565348e-01, 3.60090901e-01, 9.82588126e-01,\n",
       "        8.56717123e-01, 7.51496759e-01, 5.42885051e-01, 8.00466811e-01,\n",
       "        7.20542184e-01, 9.53404539e-01, 4.47026777e-01, 3.84632352e-01],\n",
       "       [6.04851809e-01, 3.30759407e-01, 3.95094603e-01, 7.50914845e-01,\n",
       "        9.47617488e-01, 8.66188916e-01, 9.48296876e-01, 5.21503541e-01,\n",
       "        1.99186423e-01, 5.57157002e-02, 4.01778653e-01, 3.45485536e-01,\n",
       "        3.78892511e-01, 1.86445918e-01, 5.81786118e-01, 3.89608769e-01,\n",
       "        4.69188140e-01, 8.27450227e-02, 9.76377907e-01, 4.02966718e-01,\n",
       "        9.05116109e-01, 4.86869312e-01, 8.81183610e-01, 7.91183659e-01,\n",
       "        4.58010291e-02, 4.75564864e-03, 6.27855713e-01, 5.04054364e-01],\n",
       "       [1.90378392e-01, 9.48130887e-01, 4.78798985e-02, 1.03256968e-01,\n",
       "        8.03716325e-01, 4.69474114e-01, 7.08322625e-01, 2.22265695e-01,\n",
       "        1.36237637e-01, 7.21993297e-01, 3.21365579e-01, 1.22282701e-01,\n",
       "        7.16503500e-01, 6.48316109e-01, 3.61941360e-01, 7.75677371e-01,\n",
       "        8.47485163e-01, 2.58571165e-01, 3.21110386e-01, 8.79014747e-01,\n",
       "        7.68410578e-01, 9.02081346e-02, 5.35181052e-01, 6.92050593e-02,\n",
       "        1.74349112e-01, 3.70999053e-01, 3.20499150e-01, 1.71940095e-01],\n",
       "       [9.16778967e-01, 4.77470678e-01, 4.72033392e-01, 8.71982013e-01,\n",
       "        8.24497505e-01, 9.98308041e-01, 5.15424232e-01, 3.83636414e-01,\n",
       "        9.89618388e-01, 1.79223068e-01, 9.16962276e-01, 8.08650000e-01,\n",
       "        8.97649461e-01, 7.51211657e-01, 6.55010904e-01, 1.78815098e-01,\n",
       "        6.49778898e-01, 7.37102765e-01, 7.94450958e-01, 8.11495986e-01,\n",
       "        9.75588106e-01, 2.35331504e-01, 5.54189948e-01, 7.26781301e-01,\n",
       "        4.92204639e-01, 9.83364680e-01, 9.99520048e-01, 4.31319888e-01],\n",
       "       [3.51873850e-01, 7.43909421e-01, 5.50801995e-01, 7.08303931e-01,\n",
       "        4.55065922e-01, 2.17873841e-01, 6.99916088e-01, 5.90207989e-01,\n",
       "        5.99290733e-01, 8.40118541e-01, 4.79153542e-01, 7.26968877e-01,\n",
       "        8.18162055e-01, 5.31364359e-02, 2.04316644e-01, 7.56274891e-01,\n",
       "        1.83955914e-01, 3.72686459e-01, 6.53115160e-01, 8.86205787e-01,\n",
       "        7.37134070e-01, 2.99165832e-01, 9.11020693e-01, 3.16160454e-01,\n",
       "        5.56381121e-01, 2.25746662e-01, 7.24269226e-01, 4.76199258e-01],\n",
       "       [7.63885221e-01, 1.19115124e-01, 9.17381926e-01, 8.22243175e-01,\n",
       "        3.86386463e-01, 5.76498071e-01, 9.26112000e-01, 5.21033627e-01,\n",
       "        4.96387165e-01, 1.46162803e-01, 7.71722493e-01, 3.06530742e-01,\n",
       "        9.84638909e-01, 9.02584254e-02, 3.85034950e-01, 6.73375120e-01,\n",
       "        8.05566499e-01, 7.01814414e-01, 3.78225303e-01, 7.76345934e-01,\n",
       "        1.98763410e-01, 8.65229617e-02, 8.37874424e-01, 4.52364939e-01,\n",
       "        5.48904274e-01, 5.56433489e-02, 8.28741786e-02, 3.40361806e-01],\n",
       "       [7.33717073e-01, 3.87013953e-01, 8.76099188e-01, 6.55704746e-01,\n",
       "        9.34441313e-01, 4.69334630e-02, 5.59551008e-01, 7.67992491e-01,\n",
       "        2.49921729e-01, 5.63029659e-02, 2.53945060e-02, 9.87712212e-01,\n",
       "        9.21642491e-02, 9.58824670e-03, 2.99068790e-01, 4.26692497e-01,\n",
       "        4.50531630e-01, 5.82441000e-01, 8.77491864e-02, 3.54332960e-01,\n",
       "        7.93231501e-01, 8.62098104e-01, 4.62679482e-01, 1.18384522e-01,\n",
       "        3.27410253e-01, 1.04272961e-01, 2.02026785e-01, 1.40324340e-03],\n",
       "       [3.34538050e-01, 2.82547176e-01, 4.32241999e-01, 5.61738740e-01,\n",
       "        3.54487478e-01, 4.42971297e-01, 7.71788786e-01, 9.00366707e-02,\n",
       "        9.78488399e-02, 2.31356647e-01, 2.70394355e-01, 1.87758231e-01,\n",
       "        1.93420525e-01, 7.95588258e-01, 3.77448043e-01, 3.28316371e-01,\n",
       "        3.00927645e-01, 8.66132644e-01, 2.05851652e-01, 7.00666118e-01,\n",
       "        6.37338401e-01, 8.37840168e-01, 1.09594445e-01, 2.06844715e-01,\n",
       "        9.48153959e-02, 7.79995959e-01, 5.84216808e-01, 2.83909064e-01]])"
      ]
     },
     "execution_count": 13,
     "metadata": {},
     "output_type": "execute_result"
    }
   ],
   "source": [
    "X_train[0]"
   ]
  },
  {
   "cell_type": "markdown",
   "metadata": {},
   "source": [
    "As expected, the first example in the training data is a 28 x 28 array.  This array encodes the grayscale value of the  hand-written image, i.e., each entry in the 28 x 28 array encodes the intensity (darkness) of the corresponding pixel. \n",
    "\n",
    "### Visualize the Data\n",
    "\n",
    "Let's visualize an image below.\n",
    "\n",
    "<b>Task</b>: In the code cell below, use the Seaborn`heatmap()` function to display any image contained in `X_train`."
   ]
  },
  {
   "cell_type": "code",
   "execution_count": 14,
   "metadata": {},
   "outputs": [
    {
     "data": {
      "text/plain": [
       "<AxesSubplot: >"
      ]
     },
     "execution_count": 14,
     "metadata": {},
     "output_type": "execute_result"
    },
    {
     "data": {
      "image/png": "[encoded data removed]",
      "text/plain": [
       "<Figure size 640x480 with 2 Axes>"
      ]
     },
     "metadata": {},
     "output_type": "display_data"
    }
   ],
   "source": [
    "# YOUR CODE HERE\n",
    "sns.heatmap(X_train[0])"
   ]
  },
  {
   "cell_type": "markdown",
   "metadata": {},
   "source": [
    "<b>Task</b>: Inspect the corresponding label in `y_train` to confirm that the label matches the image you see in the heatmap above."
   ]
  },
  {
   "cell_type": "code",
   "execution_count": 15,
   "metadata": {},
   "outputs": [
    {
     "name": "stdout",
     "output_type": "stream",
     "text": [
      "[1 1 0 ... 1 0 1]\n"
     ]
    }
   ],
   "source": [
    "# YOUR CODE HERE\n",
    "print(y_train)"
   ]
  },
  {
   "cell_type": "markdown",
   "metadata": {},
   "source": [
    "<b>Task</b>: Which digit appeared in your heatmap? Did it match its label? Record your findings in the cell below."
   ]
  },
  {
   "cell_type": "markdown",
   "metadata": {},
   "source": [
    " The digit that appeared in my heatmap is 5. It did match the label correctly,the label is 0 and it corresponds to the position of the index."
   ]
  },
  {
   "cell_type": "markdown",
   "metadata": {},
   "source": [
    "We've created a function `plot_imgs()` to help us visualize the image data. Let's use this function to inspect a few more examples in the training data. Execute the two code cells below."
   ]
  },
  {
   "cell_type": "code",
   "execution_count": 16,
   "metadata": {},
   "outputs": [],
   "source": [
    "# Function to visualize the data\n",
    "def plot_imgs(images, labels=None):\n",
    "    subplots_x = int(math.ceil(len(images) / 5))\n",
    "    plt.figure(figsize=(10,2*subplots_x))\n",
    "    for i in range(min(len(images), subplots_x*5)):\n",
    "        plt.subplot(subplots_x,5,i+1)\n",
    "        plt.xticks([])\n",
    "        plt.yticks([])\n",
    "        plt.grid(False)\n",
    "        plt.imshow(images[i], cmap=plt.cm.binary)\n",
    "        if labels is not None:\n",
    "            plt.xlabel(labels[i])\n",
    "    plt.show()\n",
    "    "
   ]
  },
  {
   "cell_type": "code",
   "execution_count": 17,
   "metadata": {},
   "outputs": [
    {
     "data": {
      "image/png": "[encoded data removed]",
      "text/plain": [
       "<Figure size 1000x400 with 8 Axes>"
      ]
     },
     "metadata": {},
     "output_type": "display_data"
    }
   ],
   "source": [
    "# Visualize some training examples\n",
    "plot_imgs(X_train[:8], y_train[:8])"
   ]
  },
  {
   "cell_type": "markdown",
   "metadata": {},
   "source": [
    "## Part 3. Prepare the Data"
   ]
  },
  {
   "cell_type": "markdown",
   "metadata": {},
   "source": [
    "Let's now prepare our data to be suitable for a CNN.\n",
    "\n",
    "#### Scale the Data\n",
    "\n",
    "Our MNIST data is raw data containing pixel values between 0 and 255. Neural networks process inputs using small weight values, and inputs with large integer values can disrupt or slow down the training process. Therefore, it is a good practice to normalize the pixel values so that each pixel has a value between 0 and 1. This can be done by dividing all pixels values by the largest pixel value; that is 255. \n",
    "\n",
    "<b>Task:</b> In the code cell below, normalize the pixel values in `X_train` and `X_test` to be between 0 and 1 by dividing all feature values by 255.0."
   ]
  },
  {
   "cell_type": "code",
   "execution_count": 18,
   "metadata": {},
   "outputs": [],
   "source": [
    "# YOUR CODE HERE\n",
    "X_train = X_train / 255.0\n",
    "X_test = X_test / 255.0"
   ]
  },
  {
   "cell_type": "markdown",
   "metadata": {},
   "source": [
    "#### Reshape the Data\n",
    "A CNN in Keras requires a 4-dimensional array as input in the form: `(num_examples, image_dimension_X, image_dimension_Y, num_channels)`.\n",
    "\n",
    "Since grayscale has only one color channel, every example in `X_train` would have the shape `(28, 28, 1)`. `X_test` should have the same dimensions.\n",
    "\n",
    "<b>Task:</b> In the code cell below: \n",
    "1. reshape every example in `X_train` to have the shape `(num_examples_X_train, 28, 28, 1)`.\n",
    "1. reshape every example in `X_test` to have the shape `(num_examples_X_test, 28, 28, 1)`.\n",
    "\n",
    "<i>Hint:</i> use the NumPy `reshape()` function. Consult the online [documentation](https://numpy.org/doc/stable/reference/generated/numpy.reshape.html) for more information."
   ]
  },
  {
   "cell_type": "code",
   "execution_count": 19,
   "metadata": {},
   "outputs": [
    {
     "name": "stdout",
     "output_type": "stream",
     "text": [
      "Original shape of X_train: (6000, 28, 28)\n",
      "Original shape of X_test: (1000, 28, 28)\n",
      "New shape of X_train: (6000, 28, 28, 1)\n",
      "New shape of X_test: (1000, 28, 28, 1)\n"
     ]
    }
   ],
   "source": [
    "# YOUR CODE HERE\n",
    "# Check the original shape of the arrays\n",
    "print(\"Original shape of X_train:\", X_train.shape)\n",
    "print(\"Original shape of X_test:\", X_test.shape)\n",
    "\n",
    "# Calculate the number of examples\n",
    "num_examples_X_train = X_train.shape[0]\n",
    "num_examples_X_test = X_test.shape[0]\n",
    "\n",
    "# Calculate the number of pixels per image (28*28 for MNIST images)\n",
    "pixels_per_image = 28 * 28\n",
    "\n",
    "# Check if the number of elements in X_train and X_test is compatible with the target shape\n",
    "if X_train.size != num_examples_X_train * pixels_per_image:\n",
    "    raise ValueError(f\"Cannot reshape X_train with shape {X_train.shape} into (num_examples_X_train, 28, 28, 1)\")\n",
    "if X_test.size != num_examples_X_test * pixels_per_image:\n",
    "    raise ValueError(f\"Cannot reshape X_test with shape {X_test.shape} into (num_examples_X_test, 28, 28, 1)\")\n",
    "\n",
    "# Reshape X_train and X_test\n",
    "X_train = X_train.reshape(num_examples_X_train, 28, 28, 1)\n",
    "X_test = X_test.reshape(num_examples_X_test, 28, 28, 1)\n",
    "\n",
    "# Verify the new shape\n",
    "print(\"New shape of X_train:\", X_train.shape)\n",
    "print(\"New shape of X_test:\", X_test.shape)"
   ]
  },
  {
   "cell_type": "markdown",
   "metadata": {},
   "source": [
    "## Part 4. Construct the Convolutional Neural Network"
   ]
  },
  {
   "cell_type": "markdown",
   "metadata": {},
   "source": [
    "### Step 1. Define Model Structure\n",
    "\n",
    "Next we will create our convolutional neural network structure. A CNN has three different types of hidden layers: a convolutional layer, a pooling layer, and a fully connected layer. When constructing a convolutional hidden layer, we will compose a 2D convolution, followed by a batch normalization, followed by an activation function. \n",
    "\n",
    "Let's create the CNN structure (Note that there are different ways one can choose to construct a CNN in Keras). We will create an input layer, five hidden layers and an output layer:\n",
    "\n",
    "* <b>Input layer</b>: The input layer will have the input shape corresponding to the number of features. \n",
    "* <b>Hidden layers</b>: We will create five hidden layers:\n",
    "    * Four hidden layers will be convolutional layers. They will be comprised of a 2D convolution, followed by a batch normalization, followed by an activation function. In this case, the activation function of choice is ReLU.\n",
    "    * One hidden layer will be a pooling layer. We will add a layer that uses Global Average Pooling. This is a pooling operation designed to replace the final fully connected layer in classical CNN. \n",
    "* <b>Output layer</b>: The output layer will have a width of 10. \n",
    "\n",
    "To construct the CNN model using Keras, we will do the following:\n",
    "\n",
    "* As before, we will use the Keras `Sequential` class to group a stack of layers. This will be our CNN model object. For more information, consult the Keras online [Sequential class documentation](https://keras.io/api/models/sequential/#sequential-class).\n",
    "* We will use the `InputLayer` class to create the input layer. For more information, consult the Keras online [InputLayer class documentation](https://www.tensorflow.org/api_docs/python/tf/keras/layers/InputLayer).\n",
    "* We will use the `Conv2D` class to create the convolutional layers. For more information, consult the Keras online [Conv2D class documentation](https://keras.io/api/layers/convolution_layers/convolution2d/).\n",
    "    * For batch normalization, we will use the `BatchNormalization` class. For more information, consult the Keras online [BatchNormalization class documentation](https://keras.io/api/layers/normalization_layers/batch_normalization/).\n",
    "    * For the activation function, we will use the `ReLU` class. For more information, consult the Keras online [ReLU class documentation](https://keras.io/api/layers/activation_layers/relu/).\n",
    "* We will use the `GlobalAveragePooling2D` class to create the pooling layer. For more information, consult the Keras online [GlobalAveragePooling2D class documentation](https://keras.io/api/layers/pooling_layers/global_average_pooling2d/\n",
    ").\n",
    "* Finally, we will use the `Dense` class to create the output layer. For more information, consult the Keras online [Dense class documentation](https://keras.io/api/layers/core_layers/dense/).\n",
    "* We will add each layer to the CNN model object.\n",
    "\n",
    "\n",
    "<b>Task:</b> Follow these steps to complete the code in the cell below:\n",
    "\n",
    "1. Create the CNN model object. \n",
    "    * Use ``keras.Sequential() `` to create a model object, and assign the result to the variable ```cnn_model```.\n",
    "    \n",
    "      \n",
    "2. Create the input layer: \n",
    "    * Call `keras.layers.InputLayer()` with the argument `input_shape` to specify the dimensions of the input. In this case, the dimensions will be the shape of each example (image) in `X_train` &mdash; assign this value to the argument `input_shape`. \n",
    "    * Assign the result to the variable `input_layer`.\n",
    "    * Add `input_layer` to the neural network model object `cnn_model`.\n",
    "    \n",
    "\n",
    "3. Create the first convolutional layer. You will accomplish this by doing the following:\n",
    "    * Call `keras.layers.Conv2D()` and assign the result to the variable `conv_1`. You will pass two arguments to `Conv2D()`:\n",
    "        1. The number of filters: `Conv2D()` requires an argument indicating the number of filters in the convolution. Layers in the network architecture that are closer to the input layer learn fewer convolutional filters whereas layers closer to the output layer learn more filters. Let's choose a value of 16 for the first layer. \n",
    "        2. The kernal size: this argument specifies the size of the convolution window. We will choose a kernal size of 3.\n",
    "    * Call `keras.layers.BatchNormalization()` without arguments. Assign the result to variable `batchNorm_1`.\n",
    "    * Call `keras.layers.ReLU()` without arguments. Assign the result to avariable `ReLU_1`.    \n",
    "    * Add each of these items (`conv_1`, `batchNorm_1` and `ReLU_1`) in order to the neural network model object `cnn_model`.\n",
    "    \n",
    "\n",
    "4. Create the second convolutional layer using the same approach that you used to create the first convolutional layer, specifying 32 filters and a kernal size of 3. Add the layer to the neural network model object `cnn_model`.\n",
    "\n",
    "    \n",
    "5. Create the third convolutional layer using the same approach that you used to create the first convolutional layer, specifying 64 filters and a kernal size of 3. Add the layer to the neural network model object `cnn_model`.\n",
    "\n",
    "    \n",
    "6. Create the fourth convolutional layer using the same approach that you used to create the first convolutional layer, specifying 128 filters and a kernal size of 3. Add the layer to the neural network model object `cnn_model`. \n",
    "\n",
    "    \n",
    "7. Create the pooling layer:\n",
    "    * Call `keras.layers.GlobalAveragePooling2D()` without arguments.\n",
    "    * Assign the result to the variable `pooling_layer`.\n",
    "    * Add `pooling_layer` to the neural network model object `cnn_model`. \n",
    "  \n",
    "  \n",
    "8. Create the output layer:\n",
    "    * Call `keras.layers.Dense()`. We will have one node per class. We have ten classes (digits from 0-9). Therefore, when creating the output later, specify 10 units. Do not specify an activation function.\n",
    "    * Assign the result to the variable `output_layer`.\n",
    "    * Add `output_layer` to the neural network model object `cnn_model`. \n",
    "  "
   ]
  },
  {
   "cell_type": "code",
   "execution_count": 20,
   "metadata": {},
   "outputs": [
    {
     "name": "stdout",
     "output_type": "stream",
     "text": [
      "Model: \"sequential\"\n",
      "_________________________________________________________________\n",
      "Layer (type)                 Output Shape              Param #   \n",
      "=================================================================\n",
      "conv2d (Conv2D)              (None, 28, 28, 16)        160       \n",
      "_________________________________________________________________\n",
      "batch_normalization (BatchNo (None, 28, 28, 16)        64        \n",
      "_________________________________________________________________\n",
      "re_lu (ReLU)                 (None, 28, 28, 16)        0         \n",
      "_________________________________________________________________\n",
      "conv2d_1 (Conv2D)            (None, 28, 28, 32)        4640      \n",
      "_________________________________________________________________\n",
      "batch_normalization_1 (Batch (None, 28, 28, 32)        128       \n",
      "_________________________________________________________________\n",
      "re_lu_1 (ReLU)               (None, 28, 28, 32)        0         \n",
      "_________________________________________________________________\n",
      "conv2d_2 (Conv2D)            (None, 28, 28, 64)        18496     \n",
      "_________________________________________________________________\n",
      "batch_normalization_2 (Batch (None, 28, 28, 64)        256       \n",
      "_________________________________________________________________\n",
      "re_lu_2 (ReLU)               (None, 28, 28, 64)        0         \n",
      "_________________________________________________________________\n",
      "conv2d_3 (Conv2D)            (None, 28, 28, 128)       73856     \n",
      "_________________________________________________________________\n",
      "batch_normalization_3 (Batch (None, 28, 28, 128)       512       \n",
      "_________________________________________________________________\n",
      "re_lu_3 (ReLU)               (None, 28, 28, 128)       0         \n",
      "_________________________________________________________________\n",
      "global_average_pooling2d (Gl (None, 128)               0         \n",
      "_________________________________________________________________\n",
      "dense (Dense)                (None, 10)                1290      \n",
      "=================================================================\n",
      "Total params: 99,402\n",
      "Trainable params: 98,922\n",
      "Non-trainable params: 480\n",
      "_________________________________________________________________\n"
     ]
    }
   ],
   "source": [
    "# 1. Create CNN model object\n",
    "input_shape = (28, 28, 1) \n",
    "# YOUR CODE HERE\n",
    "cnn_model = keras.Sequential()\n",
    "\n",
    "# 2. Create the input layer and add it to the model object: \n",
    "# YOUR CODE HERE\n",
    "input_layer = keras.layers.InputLayer(input_shape=input_shape)\n",
    "cnn_model.add(input_layer)\n",
    "\n",
    "# 3. Create the first convolutional layer and add it to the model object:\n",
    "# YOUR CODE HERE\n",
    "conv_1 = keras.layers.Conv2D(filters=16, kernel_size=3, padding='same')\n",
    "batchNorm_1 = keras.layers.BatchNormalization()\n",
    "ReLU_1 = keras.layers.ReLU()\n",
    "cnn_model.add(conv_1)\n",
    "cnn_model.add(batchNorm_1)\n",
    "cnn_model.add(ReLU_1)\n",
    "\n",
    "\n",
    "# 4. Create the second convolutional layer and add it to the model object:\n",
    "# YOUR CODE HERE\n",
    "\n",
    "conv_2 = keras.layers.Conv2D(filters=32, kernel_size=3, padding='same')\n",
    "batchNorm_2 = keras.layers.BatchNormalization()\n",
    "ReLU_2 = keras.layers.ReLU()\n",
    "cnn_model.add(conv_2)\n",
    "cnn_model.add(batchNorm_2)\n",
    "cnn_model.add(ReLU_2)\n",
    "\n",
    "# 5. Create the third convolutional layer and add it to the model object:\n",
    "# YOUR CODE HERE\n",
    "conv_3 = keras.layers.Conv2D(filters=64, kernel_size=3, padding='same')\n",
    "batchNorm_3 = keras.layers.BatchNormalization()\n",
    "ReLU_3 = keras.layers.ReLU()\n",
    "cnn_model.add(conv_3)\n",
    "cnn_model.add(batchNorm_3)\n",
    "cnn_model.add(ReLU_3)\n",
    "\n",
    "# 6. Create the fourth convolutional layer and add it to the model object:\n",
    "# YOUR CODE HERE\n",
    "conv_4 = keras.layers.Conv2D(filters=128, kernel_size=3, padding='same')\n",
    "batchNorm_4 = keras.layers.BatchNormalization()\n",
    "ReLU_4 = keras.layers.ReLU()\n",
    "cnn_model.add(conv_4)\n",
    "cnn_model.add(batchNorm_4)\n",
    "cnn_model.add(ReLU_4)\n",
    "\n",
    "# 7. Create the pooling layer and add it to the model object:\n",
    "# YOUR CODE HERE\n",
    "\n",
    "pooling_layer = keras.layers.GlobalAveragePooling2D()\n",
    "cnn_model.add(pooling_layer)\n",
    "# 8. Create the output layer and add it to the model object:\n",
    "# YOUR CODE HERE\n",
    "output_layer = keras.layers.Dense(units=10)\n",
    "cnn_model.add(output_layer)\n",
    "cnn_model.summary()"
   ]
  },
  {
   "cell_type": "markdown",
   "metadata": {},
   "source": [
    "### Step 2. Define the Optimization Function\n",
    "\n",
    "<b>Task:</b> In the code cell below, create a stochastic gradient descent optimizer using  `keras.optimizers.SGD()`. Specify a learning rate of 0.1 using the `learning_rate` parameter. Assign the result to the variable`sgd_optimizer`."
   ]
  },
  {
   "cell_type": "code",
   "execution_count": 21,
   "metadata": {},
   "outputs": [],
   "source": [
    "# YOUR CODE HERE\n",
    "sgd_optimizer = keras.optimizers.SGD(learning_rate=0.1)"
   ]
  },
  {
   "cell_type": "markdown",
   "metadata": {},
   "source": [
    "### Step 3. Define the loss function\n",
    "\n",
    "<b>Task:</b> In the code cell below, create a sparse categorical cross entropy loss function using `keras.losses.SparseCategoricalCrossentropy()`. This is an extension of the categorical cross entropy loss function. It is used when there are two or more label classes and the labels are integers. For more information, consult the online [SparseCategoricalCrossentropy documentation](https://www.tensorflow.org/api_docs/python/tf/keras/losses/SparseCategoricalCrossentropy). Use the parameter `from_logits=True`. Assign the result to the variable  `loss_fn`."
   ]
  },
  {
   "cell_type": "code",
   "execution_count": 22,
   "metadata": {},
   "outputs": [],
   "source": [
    " # YOUR CODE HERE\n",
    "loss_fn = keras.losses.SparseCategoricalCrossentropy(from_logits=True)"
   ]
  },
  {
   "cell_type": "markdown",
   "metadata": {},
   "source": [
    "### Step 4. Compile the model\n",
    "\n",
    "<b>Task:</b> In the code cell below, package the network architecture with the optimizer and the loss function using the `cnn_model.compile()` method. Specify the optimizer, loss function and the accuracy evaluation metric as arguments."
   ]
  },
  {
   "cell_type": "code",
   "execution_count": 23,
   "metadata": {},
   "outputs": [
    {
     "name": "stdout",
     "output_type": "stream",
     "text": [
      "X_train shape: (6000, 28, 28, 1)\n",
      "y_train shape: (6000,)\n",
      "X_test shape: (1000, 28, 28, 1)\n",
      "y_test shape: (1000,)\n"
     ]
    }
   ],
   "source": [
    "# YOUR CODE HERE\n",
    "cnn_model.compile(optimizer=sgd_optimizer,\n",
    "                  loss=loss_fn,\n",
    "                  metrics=['accuracy'])\n",
    "print(f\"X_train shape: {X_train.shape}\")\n",
    "print(f\"y_train shape: {y_train.shape}\")\n",
    "print(f\"X_test shape: {X_test.shape}\")\n",
    "print(f\"y_test shape: {y_test.shape}\")"
   ]
  },
  {
   "cell_type": "markdown",
   "metadata": {},
   "source": [
    "## Part 5. Fit the Model to the Training Data\n",
    "\n",
    "We can now fit the CNN model to the training data. Since there are 60,000 training examples and nearly 100,000 parameters to fit, this may take a while to run. Therefore, we will only choose one epoch in this assignment.\n",
    "\n",
    "<b>Task:</b> In the code cell below, fit the CNN model to the training data using the `fit()` method. Call `cnn_model.fit()` with the following arguments:\n",
    "1. The training data sets.\n",
    "2. The number of epochs.\n",
    "\n",
    "Save the results to the variable `history`. \n",
    "\n",
    "<b>Note</b>: This may take a while to run."
   ]
  },
  {
   "cell_type": "code",
   "execution_count": 24,
   "metadata": {},
   "outputs": [
    {
     "name": "stdout",
     "output_type": "stream",
     "text": [
      "188/188 [==============================] - 13s 69ms/step - loss: 0.7519 - accuracy: 0.5028 - val_loss: 0.7771 - val_accuracy: 0.5010\n",
      "Elapsed time: 13.58s\n"
     ]
    }
   ],
   "source": [
    "num_epochs = 1 # Number of epochs\n",
    "\n",
    "t0 = time.time() # start time\n",
    "\n",
    "history = cnn_model.fit(\n",
    "    X_train, \n",
    "    y_train,\n",
    "    epochs=1,\n",
    "    validation_data=(X_test, y_test)\n",
    ")# YOUR CODE HERE \n",
    "\n",
    "t1 = time.time() # stop time\n",
    "\n",
    "print('Elapsed time: %.2fs' % (t1-t0))"
   ]
  },
  {
   "cell_type": "markdown",
   "metadata": {},
   "source": [
    "## Part 6. Evaluate the Model's Performance\n",
    "\n",
    "Let's now evaluate our CNN model's performance on our test data and see how it did.\n",
    "\n",
    "\n",
    "<b>Task:</b> In the code cell below, call the `cnn_model.evaluate()` method with the test data sets as arguments. The `evaluate()` method returns a list containing two values. The first value is the loss and the second value is the accuracy score. \n"
   ]
  },
  {
   "cell_type": "code",
   "execution_count": 25,
   "metadata": {},
   "outputs": [
    {
     "name": "stdout",
     "output_type": "stream",
     "text": [
      "32/32 [==============================] - 1s 17ms/step - loss: 0.7771 - accuracy: 0.5010\n",
      "Loss:  0.7771168947219849 Accuracy:  0.5009999871253967\n"
     ]
    }
   ],
   "source": [
    "loss, accuracy = cnn_model.evaluate(X_test, y_test) # YOUR CODE HERE \n",
    "\n",
    "print('Loss: ', str(loss) , 'Accuracy: ', str(accuracy))"
   ]
  },
  {
   "cell_type": "markdown",
   "metadata": {},
   "source": [
    "Next we'll make some predictions on the test set and see for ourselves how accurate these predictions are.\n",
    "\n",
    "<b>Task:</b> In the code cell below, call the `plot_imgs()` functions with the first 25 images in `X_test` as the first argument, and the first 25 labels in `predictions` as the second argument. \n",
    "\n",
    "The result should be a display of the first 25 images in the test set `X_test`, and below each image, a display of the predicted digit. How well did we do?"
   ]
  },
  {
   "cell_type": "code",
   "execution_count": 26,
   "metadata": {},
   "outputs": [
    {
     "data": {
      "image/png": "[encoded data removed]",
      "text/plain": [
       "<Figure size 1000x1000 with 25 Axes>"
      ]
     },
     "metadata": {},
     "output_type": "display_data"
    }
   ],
   "source": [
    "# Make predictions on the test set\n",
    "logits = cnn_model.predict(X_test)\n",
    "predictions = logits.argmax(axis = 1)\n",
    "\n",
    "\n",
    "## Plot individual predictions\n",
    "# YOUR CODE HERE\n",
    "def plot_imgs(images, labels):\n",
    "    \"\"\"Function to plot images and their labels.\"\"\"\n",
    "    fig, axes = plt.subplots(5, 5, figsize=(10, 10))\n",
    "    axes = axes.ravel()\n",
    "\n",
    "    for i in range(25):\n",
    "        axes[i].imshow(images[i].reshape(28, 28), cmap='gray')\n",
    "        axes[i].set_title(f'Pred: {labels[i]}')\n",
    "        axes[i].axis('off')\n",
    "    \n",
    "    plt.subplots_adjust(hspace=0.5)\n",
    "    plt.show()\n",
    "plot_imgs(X_test[:25], predictions)"
   ]
  },
  {
   "cell_type": "code",
   "execution_count": null,
   "metadata": {},
   "outputs": [],
   "source": []
  }
 ],
 "metadata": {
  "kernelspec": {
   "display_name": "Python 3 (ipykernel)",
   "language": "python",
   "name": "python3"
  },
  "language_info": {
   "codemirror_mode": {
    "name": "ipython",
    "version": 3
   },
   "file_extension": ".py",
   "mimetype": "text/x-python",
   "name": "python",
   "nbconvert_exporter": "python",
   "pygments_lexer": "ipython3",
   "version": "3.9.19"
  },
  "toc": {
   "base_numbering": 1,
   "nav_menu": {},
   "number_sections": false,
   "sideBar": true,
   "skip_h1_title": false,
   "title_cell": "Table of Contents",
   "title_sidebar": "Contents",
   "toc_cell": false,
   "toc_position": {},
   "toc_section_display": true,
   "toc_window_display": false
  },
  "varInspector": {
   "cols": {
    "lenName": 16,
    "lenType": 16,
    "lenVar": 40
   },
   "kernels_config": {
    "python": {
     "delete_cmd_postfix": "",
     "delete_cmd_prefix": "del ",
     "library": "var_list.py",
     "varRefreshCmd": "print(var_dic_list())"
    },
    "r": {
     "delete_cmd_postfix": ") ",
     "delete_cmd_prefix": "rm(",
     "library": "var_list.r",
     "varRefreshCmd": "cat(var_dic_list()) "
    }
   },
   "types_to_exclude": [
    "module",
    "function",
    "builtin_function_or_method",
    "instance",
    "_Feature"
   ],
   "window_display": false
  }
 },
 "nbformat": 4,
 "nbformat_minor": 4
}
